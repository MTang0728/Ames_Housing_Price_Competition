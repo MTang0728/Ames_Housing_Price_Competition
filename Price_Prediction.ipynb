{
 "cells": [
  {
   "cell_type": "markdown",
   "metadata": {},
   "source": [
    "Plan:\n",
    "1. EDA on train data, find out summary including shape, data type, data distribution, if it contains missing/null values.\n",
    "2. Clean data\n",
    "3. Train Test split\n",
    "4. Fix missing data\n",
    "5. Feature selection (Correlation on numerical features, boxplot on categorical features, automatically select the most informative)\n",
    "6. Encode categorical variables\n",
    "7. Build Model (Ensemble: RandomTreeForest, XGBoost, etc)\n",
    "8. Evaluation"
   ]
  },
  {
   "cell_type": "code",
   "execution_count": 2,
   "metadata": {},
   "outputs": [],
   "source": [
    "import pandas as pd\n",
    "import numpy as np\n",
    "import matplotlib.pyplot as plt\n",
    "import seaborn as sns"
   ]
  },
  {
   "cell_type": "code",
   "execution_count": null,
   "metadata": {},
   "outputs": [],
   "source": []
  }
 ],
 "metadata": {
  "kernelspec": {
   "display_name": "Python 3",
   "language": "python",
   "name": "python3"
  },
  "language_info": {
   "codemirror_mode": {
    "name": "ipython",
    "version": 3
   },
   "file_extension": ".py",
   "mimetype": "text/x-python",
   "name": "python",
   "nbconvert_exporter": "python",
   "pygments_lexer": "ipython3",
   "version": "3.7.5"
  }
 },
 "nbformat": 4,
 "nbformat_minor": 4
}
